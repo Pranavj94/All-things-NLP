{
 "cells": [
  {
   "cell_type": "code",
   "execution_count": null,
   "id": "3864e1c4-0a04-4a43-ba7d-bb4137d6f95f",
   "metadata": {},
   "outputs": [],
   "source": [
    "# \n",
    "\n",
    "def pallindrome(check_string):\n",
    "    reversed_string=\"\"\n",
    "    for index in range(len(check_string)):\n",
    "        reversed_string=reversed_string+check_string[len(check_string)-index-1]\n",
    "        \n",
    "    if check_string==reversed_string:\n",
    "        return(\"True\")\n",
    "    else:\n",
    "        return('False')"
   ]
  },
  {
   "cell_type": "code",
   "execution_count": 4,
   "id": "69640353-e00b-489f-ab9e-3904e7b76660",
   "metadata": {},
   "outputs": [
    {
     "name": "stdout",
     "output_type": "stream",
     "text": [
      "4\n"
     ]
    }
   ],
   "source": [
    "check_list=[1,25,13,78,100,10]\n",
    "\n",
    "check_item=100\n",
    "\n",
    "for index,item in enumerate(check_list):\n",
    "    if item==check_item:\n",
    "        print(index)"
   ]
  },
  {
   "cell_type": "code",
   "execution_count": null,
   "id": "e81f05e2-89c0-4184-bdc2-3ae19309f120",
   "metadata": {},
   "outputs": [],
   "source": [
    "class storage:\n",
    "    \n",
    "    def __init__(self,data):\n",
    "        self.data=data\n",
    "        \n",
    "    def __fetch(self):\n",
    "        print(self.data)\n",
    "        \n",
    "    \n",
    "        "
   ]
  }
 ],
 "metadata": {
  "kernelspec": {
   "display_name": "Python 3",
   "language": "python",
   "name": "python3"
  },
  "language_info": {
   "codemirror_mode": {
    "name": "ipython",
    "version": 3
   },
   "file_extension": ".py",
   "mimetype": "text/x-python",
   "name": "python",
   "nbconvert_exporter": "python",
   "pygments_lexer": "ipython3",
   "version": "3.8.10"
  }
 },
 "nbformat": 4,
 "nbformat_minor": 5
}
